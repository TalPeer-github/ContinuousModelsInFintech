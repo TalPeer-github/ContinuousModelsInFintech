{
 "cells": [
  {
   "cell_type": "markdown",
   "source": [
    "# Continuous Models in Fintech - Final Project"
   ],
   "metadata": {
    "collapsed": false
   },
   "id": "4c970c25a12e8069"
  },
  {
   "cell_type": "markdown",
   "source": [
    "### Imports"
   ],
   "metadata": {
    "collapsed": false
   },
   "id": "caac0106daf63b29"
  },
  {
   "cell_type": "code",
   "execution_count": 86,
   "outputs": [],
   "source": [
    "import pandas as pd\n",
    "import numpy as np\n",
    "from scipy.optimize import minimize\n",
    "import matplotlib.pyplot as plt\n",
    "import seaborn as sns\n",
    "import statsmodels as sm\n",
    "from datetime import datetime"
   ],
   "metadata": {
    "collapsed": false,
    "ExecuteTime": {
     "end_time": "2024-05-20T15:22:01.973663500Z",
     "start_time": "2024-05-20T15:22:01.961667300Z"
    }
   },
   "id": "7dc30b0adfe0d140"
  },
  {
   "cell_type": "code",
   "execution_count": 87,
   "outputs": [],
   "source": [
    "file_path = \"data/final_project_data_04032024.csv\""
   ],
   "metadata": {
    "collapsed": false,
    "ExecuteTime": {
     "end_time": "2024-05-20T15:22:03.298505400Z",
     "start_time": "2024-05-20T15:22:03.279546500Z"
    }
   },
   "id": "b38dbc6ac5592aa4"
  },
  {
   "cell_type": "code",
   "execution_count": 88,
   "outputs": [],
   "source": [
    "bonds = pd.read_csv(file_path).drop([\"call_date\"],axis=1)\n",
    "\n",
    "bonds['maturity_date'] = pd.to_datetime(bonds['maturity_date'], format='%m/%d/%Y')\n",
    "today = datetime.today()\n",
    "bonds['maturity'] = (bonds['maturity_date'] - today).dt.days / 365.25\n",
    "bonds = bonds[bonds['maturity']>0]"
   ],
   "metadata": {
    "collapsed": false,
    "ExecuteTime": {
     "end_time": "2024-05-20T15:22:04.058155400Z",
     "start_time": "2024-05-20T15:22:04.013915900Z"
    }
   },
   "id": "887b6ceadf25250a"
  },
  {
   "cell_type": "code",
   "execution_count": 90,
   "outputs": [],
   "source": [
    "threshold = 0.5\n",
    "\n",
    "fixed_coupon_bonds = bonds[(bonds['security_type'].isin(['MARKET BASED NOTE', 'MARKET BASED BOND'])) & (bonds['rate'] > 0)]\n",
    "fixed_face_value_bonds = bonds[~bonds['security_type'].isin(['TIPS'])]\n",
    "close_to_par_bonds = bonds[abs(bonds['eod'] - 100) < threshold]"
   ],
   "metadata": {
    "collapsed": false,
    "ExecuteTime": {
     "end_time": "2024-05-20T15:22:06.046041100Z",
     "start_time": "2024-05-20T15:22:06.000465500Z"
    }
   },
   "id": "32ccd89b50e7a06d"
  },
  {
   "cell_type": "markdown",
   "source": [
    "### Nelson Siegel"
   ],
   "metadata": {
    "collapsed": false
   },
   "id": "5b5790bceb6c7603"
  },
  {
   "cell_type": "code",
   "execution_count": 117,
   "outputs": [],
   "source": [
    "def nelson_siegel(params, maturities):\n",
    "    beta0, beta1, beta2, tau = params\n",
    "    return beta0 + beta1 * (1 - np.exp(-maturities / tau)) / (maturities / tau) + beta2 * ((1 - np.exp(-maturities / tau)) / (maturities / tau) - np.exp(-maturities / tau))\n",
    "\n",
    "\n",
    "def loss_function_ns(params, maturities, yields):\n",
    "    \"\"\"\n",
    "    MSE loss\n",
    "    \"\"\"\n",
    "    model_yields = nelson_siegel(params, maturities)\n",
    "    return np.sum((yields - model_yields) ** 2)\n",
    "\n",
    "\n",
    "def calibrate_ns(bonds):\n",
    "    maturities = bonds['maturity'].values\n",
    "    yields = 100 / bonds['eod'].values - 1 \n",
    "\n",
    "    initial_params = [0.03, -0.02, 0.02, 1.0]\n",
    "\n",
    "    result = minimize(loss_function_ns, initial_params, args=(maturities, yields), method='BFGS')\n",
    "\n",
    "    beta0, beta1, beta2, tau = result.x\n",
    "    f = result.fun\n",
    "    return beta0, beta1, beta2, tau,f"
   ],
   "metadata": {
    "collapsed": false,
    "ExecuteTime": {
     "end_time": "2024-05-20T16:54:39.266450Z",
     "start_time": "2024-05-20T16:54:39.252361Z"
    }
   },
   "id": "26b13dc7f43c49d2"
  },
  {
   "cell_type": "code",
   "execution_count": 118,
   "outputs": [
    {
     "name": "stdout",
     "output_type": "stream",
     "text": [
      "Calibrating Nelson-Siegel:\n",
      "\n",
      "Calibrated parameters for fixed coupon bonds:\n",
      "beta0 = 1.9845, beta1 = -1.95198, beta2 = -1.92865, tau = 19.53341\n",
      "loss=4.483597304830799\n",
      "\n",
      "Calibrated parameters for fixed face value bonds:\n",
      "beta0 = 2.15958, beta1 = -2.13158, beta2 = -2.04269, tau = 21.45655\n",
      "loss=4.495163433302942\n",
      "\n",
      "Calibrated parameters for close to par bonds:\n",
      "beta0 = -0.0013, beta1 = 0.00236, beta2 = -0.0018, tau = 0.99994\n",
      "loss=0.00016870487486863128\n"
     ]
    }
   ],
   "source": [
    "print(\"Calibrating Nelson-Siegel:\\n\")\n",
    "beta0, beta1, beta2, tau,f = calibrate_ns(fixed_coupon_bonds)\n",
    "beta0, beta1, beta2, tau = round(beta0,5),round(beta1,5),round(beta2,5),round(tau,5)\n",
    "print(f'Calibrated parameters for fixed coupon bonds:\\nbeta0 = {beta0}, beta1 = {beta1}, beta2 = {beta2}, tau = {tau}\\nloss={f}\\n')\n",
    "\n",
    "\n",
    "beta0, beta1, beta2, tau,f = calibrate_ns(fixed_face_value_bonds)\n",
    "beta0, beta1, beta2, tau = round(beta0,5),round(beta1,5),round(beta2,5),round(tau,5)\n",
    "print(f'Calibrated parameters for fixed face value bonds:\\nbeta0 = {beta0}, beta1 = {beta1}, beta2 = {beta2}, tau = {tau}\\nloss={f}\\n')\n",
    "\n",
    "beta0, beta1, beta2, tau,f = calibrate_ns(close_to_par_bonds)\n",
    "beta0, beta1, beta2, tau = round(beta0,5),round(beta1,5),round(beta2,5),round(tau,5)\n",
    "print(f'Calibrated parameters for close to par bonds:\\nbeta0 = {beta0}, beta1 = {beta1}, beta2 = {beta2}, tau = {tau}\\nloss={f}\\n')"
   ],
   "metadata": {
    "collapsed": false,
    "ExecuteTime": {
     "end_time": "2024-05-20T16:54:42.093208700Z",
     "start_time": "2024-05-20T16:54:42.031874400Z"
    }
   },
   "id": "e79ef9ebeda23278"
  },
  {
   "cell_type": "markdown",
   "source": [
    "### Vasicek"
   ],
   "metadata": {
    "collapsed": false
   },
   "id": "7a8df2ade311e5d5"
  },
  {
   "cell_type": "markdown",
   "source": [
    "r0 : volatility of the interest rate and in a way characterizes the amplitude of the instantaneous randomness inflow\n",
    "beta : \"long term mean level\" All future trajectories of r will evolve around a mean level b in the long run\n",
    "alpha : \"speed of reversion\" characterizes the velocity at which such trajectories will regroup around b in time\n",
    "sigma : \"instantaneous volatility\", measures instant by instant the amplitude of randomness entering the system. higher values indicates more randomness\n",
    "\n",
    "increasing sigma increases the amount of randomness entering the system, but at the same time increasing alpha amounts to increasing the speed at which the system will stabilize statistically around the long term mean beta with a corridor of variance determined also by alpha."
   ],
   "metadata": {
    "collapsed": false
   },
   "id": "ff98e7cbadbf4f5e"
  },
  {
   "cell_type": "code",
   "execution_count": 115,
   "outputs": [],
   "source": [
    "def vasicek(params, maturities):\n",
    "    a, b, sigma, r0 = params\n",
    "    return b + (r0 - b) * np.exp(-a * maturities) + sigma ** 2 / (2 * a) * (1 - np.exp(-2 * a * maturities))\n",
    "\n",
    "def loss_function_vasicek(params, maturities, yields):\n",
    "    \"\"\"\n",
    "    MSE loss\n",
    "    \"\"\"\n",
    "    model_yields = vasicek(params, maturities)\n",
    "    return np.sum((yields - model_yields) ** 2)\n",
    "\n",
    "def calibrate_vasicek(bonds):\n",
    "    maturities = bonds['maturity'].values\n",
    "    yields = 100 / bonds['eod'].values - 1 \n",
    "\n",
    "    initial_params = [1.0, 0.1, 0.2, 0.1]\n",
    "\n",
    "    result = minimize(loss_function_vasicek, initial_params, args=(maturities, yields), method='BFGS')\n",
    "\n",
    "    a, b, sigma, r0 = result.x\n",
    "    f = result.fun\n",
    "    return a, b, sigma, r0,f\n"
   ],
   "metadata": {
    "collapsed": false,
    "ExecuteTime": {
     "end_time": "2024-05-20T16:53:48.878797400Z",
     "start_time": "2024-05-20T16:53:48.868305Z"
    }
   },
   "id": "28ffce5c747dc884"
  },
  {
   "cell_type": "code",
   "execution_count": 116,
   "outputs": [
    {
     "name": "stdout",
     "output_type": "stream",
     "text": [
      "Calibrating Vasicek:\n",
      "\n",
      "Calibrated parameters for fixed coupon bonds (Vasicek):\n",
      "a = -0.00344, b = 33.4322, sigma = -0.34835, r0 = 0.02331\n",
      "loss=4.503585280758019\n",
      "\n",
      "Calibrated parameters for fixed face value bonds (Vasicek):\n",
      "a = -0.00325, b = 36.44901, sigma = -0.3535, r0 = 0.02174\n",
      "loss=4.511547970837192\n",
      "\n",
      "Calibrated parameters for close to par bonds (Vasicek):\n",
      "a = 1.01535, b = -0.00804, sigma = 0.11399, r0 = -0.00087\n",
      "loss=0.00016398314475431967\n"
     ]
    }
   ],
   "source": [
    "print(\"Calibrating Vasicek:\\n\")\n",
    "a, b, sigma, r0,f = calibrate_vasicek(fixed_coupon_bonds)\n",
    "a,b,sigma,r0= round(a,5),round(b,5),round(sigma,5),round(r0,5)\n",
    "print(f'Calibrated parameters for fixed coupon bonds (Vasicek):\\na = {a}, b = {b}, sigma = {sigma}, r0 = {r0}\\nloss={f}\\n\\n')\n",
    "\n",
    "a, b, sigma, r0,f = calibrate_vasicek(fixed_face_value_bonds)\n",
    "a,b,sigma,r0 = round(a,5),round(b,5),round(sigma,5),round(r0,5)\n",
    "print(f'Calibrated parameters for fixed face value bonds (Vasicek):\\na = {a}, b = {b}, sigma = {sigma}, r0 = {r0}\\nloss={f}\\n')\n",
    "\n",
    "a, b, sigma, r0,f = calibrate_vasicek(close_to_par_bonds)\n",
    "a,b,sigma,r0 = round(a,5),round(b,5),round(sigma,5),round(r0,5)\n",
    "print(f'Calibrated parameters for close to par bonds (Vasicek):\\na = {a}, b = {b}, sigma = {sigma}, r0 = {r0}\\nloss={f}\\n')"
   ],
   "metadata": {
    "collapsed": false,
    "ExecuteTime": {
     "end_time": "2024-05-20T16:53:50.134309Z",
     "start_time": "2024-05-20T16:53:49.841298200Z"
    }
   },
   "id": "bbcd341d82b66de2"
  },
  {
   "cell_type": "markdown",
   "source": [
    "### Hull-White"
   ],
   "metadata": {
    "collapsed": false
   },
   "id": "85bdefbe2fd9093a"
  },
  {
   "cell_type": "code",
   "execution_count": 108,
   "outputs": [],
   "source": [
    "def hull_white(params, maturities):\n",
    "    a, sigma = params\n",
    "    return sigma * np.sqrt((1 - np.exp(-2 * a * maturities)) / (2 * a))\n",
    "\n",
    "def loss_function_hw(params, maturities, yields):\n",
    "    \"\"\"\n",
    "    MSE loss\n",
    "    \"\"\"\n",
    "    model_yields = hull_white(params, maturities)\n",
    "    return np.sum((yields - model_yields) ** 2)\n",
    "\n",
    "def calibrate_hw(bonds):\n",
    "    maturities = bonds['maturity'].values\n",
    "    yields = 100 / bonds['eod'].values - 1 \n",
    "    initial_params_hw = [0.1, 0.02]\n",
    "\n",
    "    result_hw = minimize(loss_function_hw, initial_params_hw, args=(maturities, yields), method='BFGS')\n",
    "\n",
    "    a, sigma = result_hw.x\n",
    "    f = result_hw.fun\n",
    "    return a, sigma,f"
   ],
   "metadata": {
    "collapsed": false,
    "ExecuteTime": {
     "end_time": "2024-05-20T16:51:56.343314400Z",
     "start_time": "2024-05-20T16:51:56.337607800Z"
    }
   },
   "id": "ee34c764ef30ad62"
  },
  {
   "cell_type": "code",
   "execution_count": 110,
   "outputs": [
    {
     "name": "stdout",
     "output_type": "stream",
     "text": [
      "Calibrating Hull-White:\n",
      "\n",
      "Calibrated parameters for fixed coupon bonds (Hull-White):\n",
      "a=-0.05796157528184117, sigma=0.026546222111327032\n",
      "loss=4.543005258545655\n",
      "\n",
      "Calibrated parameters for fixed face value bonds (Hull-White):\n",
      "a=-0.05800695307830862, sigma=0.02652441568934463\n",
      "loss=4.552294074127071\n",
      "\n",
      "Calibrated parameters for close to par bonds (Hull-White):\n",
      "a=0.10253101840852562, sigma=-0.0005405023732157218\n",
      "loss=0.00017254544990482043\n"
     ]
    }
   ],
   "source": [
    "print(\"Calibrating Hull-White:\\n\")\n",
    "\n",
    "a, sigma,f = calibrate_hw(fixed_coupon_bonds)\n",
    "print(f'Calibrated parameters for fixed coupon bonds (Hull-White):\\na={a}, sigma={sigma}\\nloss={f}\\n')\n",
    "\n",
    "a, sigma,f = calibrate_hw(fixed_face_value_bonds)\n",
    "print(f'Calibrated parameters for fixed face value bonds (Hull-White):\\na={a}, sigma={sigma}\\nloss={f}\\n')\n",
    "\n",
    "a, sigma,f = calibrate_hw(close_to_par_bonds)\n",
    "print(f'Calibrated parameters for close to par bonds (Hull-White):\\na={a}, sigma={sigma}\\nloss={f}\\n')"
   ],
   "metadata": {
    "collapsed": false,
    "ExecuteTime": {
     "end_time": "2024-05-20T16:52:21.456824Z",
     "start_time": "2024-05-20T16:52:21.415486Z"
    }
   },
   "id": "da6b8d80c0204c38"
  }
 ],
 "metadata": {
  "kernelspec": {
   "display_name": "Python 3",
   "language": "python",
   "name": "python3"
  },
  "language_info": {
   "codemirror_mode": {
    "name": "ipython",
    "version": 2
   },
   "file_extension": ".py",
   "mimetype": "text/x-python",
   "name": "python",
   "nbconvert_exporter": "python",
   "pygments_lexer": "ipython2",
   "version": "2.7.6"
  }
 },
 "nbformat": 4,
 "nbformat_minor": 5
}
